{
 "cells": [
  {
   "cell_type": "markdown",
   "metadata": {},
   "source": [
    "Open the data as a pandas data-frame."
   ]
  },
  {
   "cell_type": "code",
   "execution_count": 4,
   "metadata": {},
   "outputs": [
    {
     "data": {
      "text/plain": [
       "Index(['state', 'year', 'tax_legis', 'lastdemmargin', 'term_length',\n",
       "       'years_left_before_limit', 'sen_dem_per_2pty', 'hs_dem_per_2pty',\n",
       "       'veto_override_prop', 'vote_nec_budg', 'vote_nec_any_tax_inc',\n",
       "       'statename', 'total_taxes', 'property_tax', 'tot_sales_&_gr_rec_tax',\n",
       "       'total_gen_sales_tax', 'total_select_sales_tax',\n",
       "       'alcoholic_beverage_tax', 'amusement_tax', 'insurance_premium_tax',\n",
       "       'motor_fuels_tax', 'parimutuels_tax', 'public_utility_tax',\n",
       "       'tobacco_tax', 'other_select_sales_tax', 'total_license_taxes',\n",
       "       'alcoholic_beverage_lic', 'amusement_license', 'corporation_license',\n",
       "       'hunt_and_fish_license', 'motor_veh_&_oper_lic',\n",
       "       'motor_vehicle_license', 'motor_veh_oper_license',\n",
       "       'public_utility_license', 'occup_and_bus_lic_nec',\n",
       "       'other_license_taxes', 'total_income_taxes', 'individual_income_tax',\n",
       "       'corp_net_income_tax', 'total_other_taxes', 'death_and_gift_tax',\n",
       "       'docum_and_stock_tr_tax', 'severance_tax', 'taxes_nec', 'stateno',\n",
       "       'gub_election', 'gub_election_regime', 'new_gov_b', 'years_served',\n",
       "       'budgets_overseen', 'years_left_in_term', 'limit_exists', 'limit_type',\n",
       "       'lame_duck_last_term', 'lame_duck_last_year', 'femgov', 'govparty_a',\n",
       "       'state_midterm_penalty', 'gov_non_maj_pty', 'gub_party_change',\n",
       "       'years_since_other_party', 'region_census', 'personal_income1000s',\n",
       "       'pop_annual', 'disposable_personal_income1000s_annual', 'pop_growth',\n",
       "       'pc_inc_ann', 'state_cpi_bfh', 'housing_prices_quar',\n",
       "       'real_pc_inc_quar', 'gsp_q', 'total_debt_outstanding', 'total_revenue',\n",
       "       'general_revenue', 'taxes', 'total_expenditure', 'general_expenditure',\n",
       "       'legislative_total_exp', 'budget_surplus', 'total_debt_outstanding_gsp',\n",
       "       'total_revenue_gsp', 'general_revenue_gsp', 'taxes_gsp',\n",
       "       'total_expenditure_gsp', 'general_expenditure_gsp',\n",
       "       'budget_surplus_gsp', 'total_debt_outstanding_inc', 'total_revenue_inc',\n",
       "       'general_revenue_inc', 'taxes_inc', 'total_expenditure_inc',\n",
       "       'general_expenditure_inc', 'budget_surplus_inc', 'real_leg_tot_exp'],\n",
       "      dtype='object')"
      ]
     },
     "execution_count": 4,
     "metadata": {},
     "output_type": "execute_result"
    }
   ],
   "source": [
    "import pandas as pd # python package for data management\n",
    "df = pd.read_csv('state-tax-govt-data.csv')\n",
    "df.columns"
   ]
  },
  {
   "cell_type": "code",
   "execution_count": 6,
   "metadata": {},
   "outputs": [
    {
     "data": {
      "text/html": [
       "<div>\n",
       "<style scoped>\n",
       "    .dataframe tbody tr th:only-of-type {\n",
       "        vertical-align: middle;\n",
       "    }\n",
       "\n",
       "    .dataframe tbody tr th {\n",
       "        vertical-align: top;\n",
       "    }\n",
       "\n",
       "    .dataframe thead th {\n",
       "        text-align: right;\n",
       "    }\n",
       "</style>\n",
       "<table border=\"1\" class=\"dataframe\">\n",
       "  <thead>\n",
       "    <tr style=\"text-align: right;\">\n",
       "      <th></th>\n",
       "      <th>state</th>\n",
       "      <th>year</th>\n",
       "      <th>tax_legis</th>\n",
       "      <th>lastdemmargin</th>\n",
       "      <th>term_length</th>\n",
       "      <th>years_left_before_limit</th>\n",
       "      <th>sen_dem_per_2pty</th>\n",
       "      <th>hs_dem_per_2pty</th>\n",
       "      <th>veto_override_prop</th>\n",
       "      <th>vote_nec_budg</th>\n",
       "      <th>...</th>\n",
       "      <th>general_expenditure_gsp</th>\n",
       "      <th>budget_surplus_gsp</th>\n",
       "      <th>total_debt_outstanding_inc</th>\n",
       "      <th>total_revenue_inc</th>\n",
       "      <th>general_revenue_inc</th>\n",
       "      <th>taxes_inc</th>\n",
       "      <th>total_expenditure_inc</th>\n",
       "      <th>general_expenditure_inc</th>\n",
       "      <th>budget_surplus_inc</th>\n",
       "      <th>real_leg_tot_exp</th>\n",
       "    </tr>\n",
       "  </thead>\n",
       "  <tbody>\n",
       "    <tr>\n",
       "      <th>66</th>\n",
       "      <td>AK</td>\n",
       "      <td>2001</td>\n",
       "      <td>211313.0</td>\n",
       "      <td>33.404034</td>\n",
       "      <td>4.0</td>\n",
       "      <td>1.0</td>\n",
       "      <td>30.0</td>\n",
       "      <td>32.5</td>\n",
       "      <td>0.666667</td>\n",
       "      <td>0.5</td>\n",
       "      <td>...</td>\n",
       "      <td>30.23418</td>\n",
       "      <td>-8.454143</td>\n",
       "      <td>22.05263</td>\n",
       "      <td>30.26679</td>\n",
       "      <td>29.56902</td>\n",
       "      <td>6.990412</td>\n",
       "      <td>44.26801</td>\n",
       "      <td>41.04654</td>\n",
       "      <td>-11.477520</td>\n",
       "      <td>30500000.0</td>\n",
       "    </tr>\n",
       "    <tr>\n",
       "      <th>67</th>\n",
       "      <td>AK</td>\n",
       "      <td>2002</td>\n",
       "      <td>294484.0</td>\n",
       "      <td>33.404034</td>\n",
       "      <td>4.0</td>\n",
       "      <td>0.0</td>\n",
       "      <td>30.0</td>\n",
       "      <td>32.5</td>\n",
       "      <td>0.666667</td>\n",
       "      <td>0.5</td>\n",
       "      <td>...</td>\n",
       "      <td>23.20163</td>\n",
       "      <td>-4.429986</td>\n",
       "      <td>24.90960</td>\n",
       "      <td>23.55272</td>\n",
       "      <td>25.44753</td>\n",
       "      <td>5.112926</td>\n",
       "      <td>34.73900</td>\n",
       "      <td>31.45298</td>\n",
       "      <td>-6.005449</td>\n",
       "      <td>30900000.0</td>\n",
       "    </tr>\n",
       "    <tr>\n",
       "      <th>68</th>\n",
       "      <td>AK</td>\n",
       "      <td>2003</td>\n",
       "      <td>257470.0</td>\n",
       "      <td>-15.147051</td>\n",
       "      <td>4.0</td>\n",
       "      <td>7.0</td>\n",
       "      <td>40.0</td>\n",
       "      <td>32.5</td>\n",
       "      <td>0.666667</td>\n",
       "      <td>0.5</td>\n",
       "      <td>...</td>\n",
       "      <td>23.01083</td>\n",
       "      <td>-3.277230</td>\n",
       "      <td>26.71320</td>\n",
       "      <td>31.72805</td>\n",
       "      <td>27.94522</td>\n",
       "      <td>5.132655</td>\n",
       "      <td>37.21439</td>\n",
       "      <td>32.58619</td>\n",
       "      <td>-4.640964</td>\n",
       "      <td>29100000.0</td>\n",
       "    </tr>\n",
       "    <tr>\n",
       "      <th>69</th>\n",
       "      <td>AK</td>\n",
       "      <td>2004</td>\n",
       "      <td>328451.0</td>\n",
       "      <td>-15.147051</td>\n",
       "      <td>4.0</td>\n",
       "      <td>6.0</td>\n",
       "      <td>40.0</td>\n",
       "      <td>32.5</td>\n",
       "      <td>0.666667</td>\n",
       "      <td>0.5</td>\n",
       "      <td>...</td>\n",
       "      <td>19.86408</td>\n",
       "      <td>-0.594894</td>\n",
       "      <td>24.65680</td>\n",
       "      <td>38.37039</td>\n",
       "      <td>28.73878</td>\n",
       "      <td>5.822149</td>\n",
       "      <td>35.06334</td>\n",
       "      <td>29.62602</td>\n",
       "      <td>-0.887246</td>\n",
       "      <td>27800000.0</td>\n",
       "    </tr>\n",
       "    <tr>\n",
       "      <th>70</th>\n",
       "      <td>AK</td>\n",
       "      <td>2005</td>\n",
       "      <td>302581.0</td>\n",
       "      <td>-15.147051</td>\n",
       "      <td>NaN</td>\n",
       "      <td>5.0</td>\n",
       "      <td>40.0</td>\n",
       "      <td>35.0</td>\n",
       "      <td>0.666667</td>\n",
       "      <td>0.5</td>\n",
       "      <td>...</td>\n",
       "      <td>18.81073</td>\n",
       "      <td>2.024027</td>\n",
       "      <td>23.42631</td>\n",
       "      <td>37.31275</td>\n",
       "      <td>32.01216</td>\n",
       "      <td>7.548791</td>\n",
       "      <td>32.72437</td>\n",
       "      <td>28.90229</td>\n",
       "      <td>3.109874</td>\n",
       "      <td>31400000.0</td>\n",
       "    </tr>\n",
       "  </tbody>\n",
       "</table>\n",
       "<p>5 rows × 94 columns</p>\n",
       "</div>"
      ],
      "text/plain": [
       "   state  year  tax_legis  lastdemmargin  term_length  \\\n",
       "66    AK  2001   211313.0      33.404034          4.0   \n",
       "67    AK  2002   294484.0      33.404034          4.0   \n",
       "68    AK  2003   257470.0     -15.147051          4.0   \n",
       "69    AK  2004   328451.0     -15.147051          4.0   \n",
       "70    AK  2005   302581.0     -15.147051          NaN   \n",
       "\n",
       "    years_left_before_limit  sen_dem_per_2pty  hs_dem_per_2pty  \\\n",
       "66                      1.0              30.0             32.5   \n",
       "67                      0.0              30.0             32.5   \n",
       "68                      7.0              40.0             32.5   \n",
       "69                      6.0              40.0             32.5   \n",
       "70                      5.0              40.0             35.0   \n",
       "\n",
       "    veto_override_prop  vote_nec_budg        ...         \\\n",
       "66            0.666667            0.5        ...          \n",
       "67            0.666667            0.5        ...          \n",
       "68            0.666667            0.5        ...          \n",
       "69            0.666667            0.5        ...          \n",
       "70            0.666667            0.5        ...          \n",
       "\n",
       "    general_expenditure_gsp budget_surplus_gsp  total_debt_outstanding_inc  \\\n",
       "66                 30.23418          -8.454143                    22.05263   \n",
       "67                 23.20163          -4.429986                    24.90960   \n",
       "68                 23.01083          -3.277230                    26.71320   \n",
       "69                 19.86408          -0.594894                    24.65680   \n",
       "70                 18.81073           2.024027                    23.42631   \n",
       "\n",
       "    total_revenue_inc  general_revenue_inc  taxes_inc  total_expenditure_inc  \\\n",
       "66           30.26679             29.56902   6.990412               44.26801   \n",
       "67           23.55272             25.44753   5.112926               34.73900   \n",
       "68           31.72805             27.94522   5.132655               37.21439   \n",
       "69           38.37039             28.73878   5.822149               35.06334   \n",
       "70           37.31275             32.01216   7.548791               32.72437   \n",
       "\n",
       "    general_expenditure_inc  budget_surplus_inc  real_leg_tot_exp  \n",
       "66                 41.04654          -11.477520        30500000.0  \n",
       "67                 31.45298           -6.005449        30900000.0  \n",
       "68                 32.58619           -4.640964        29100000.0  \n",
       "69                 29.62602           -0.887246        27800000.0  \n",
       "70                 28.90229            3.109874        31400000.0  \n",
       "\n",
       "[5 rows x 94 columns]"
      ]
     },
     "execution_count": 6,
     "metadata": {},
     "output_type": "execute_result"
    }
   ],
   "source": [
    "df[df.year>2000].head()"
   ]
  },
  {
   "cell_type": "code",
   "execution_count": 7,
   "metadata": {},
   "outputs": [],
   "source": [
    "# make log transformations of the variables\n",
    "import numpy as np # for math operations\n",
    "df['log_gdp'] = np.log(1+df['gsp_q'])\n",
    "df['log_deathtax'] = np.log(1+df['death_and_gift_tax'])"
   ]
  },
  {
   "cell_type": "code",
   "execution_count": 15,
   "metadata": {},
   "outputs": [
    {
     "data": {
      "text/plain": [
       "<matplotlib.axes._subplots.AxesSubplot at 0x7f864b576f28>"
      ]
     },
     "execution_count": 15,
     "metadata": {},
     "output_type": "execute_result"
    },
    {
     "data": {
      "image/png": "[encoded data removed]",
      "text/plain": [
       "<Figure size 576x396 with 1 Axes>"
      ]
     },
     "metadata": {},
     "output_type": "display_data"
    }
   ],
   "source": [
    "import matplotlib.pyplot as plt\n",
    "plt.style.use('seaborn')\n",
    "\n",
    "df[df.year==2000].plot(x='log_deathtax', y='log_gdp', kind='scatter')"
   ]
  },
  {
   "cell_type": "markdown",
   "metadata": {},
   "source": [
    "Set up OLS regression. Outcome variable is log gross domestic product (economic output) in the state. The explanatory variable is log estate taxes."
   ]
  },
  {
   "cell_type": "code",
   "execution_count": 9,
   "metadata": {},
   "outputs": [],
   "source": [
    "import statsmodels.formula.api as smf # for running regressions\n",
    "model = smf.ols('log_gdp ~ log_deathtax', data=df)"
   ]
  },
  {
   "cell_type": "code",
   "execution_count": 10,
   "metadata": {},
   "outputs": [],
   "source": [
    "# Run the regression\n",
    "results = model.fit()"
   ]
  },
  {
   "cell_type": "code",
   "execution_count": 11,
   "metadata": {},
   "outputs": [
    {
     "data": {
      "text/plain": [
       "Intercept       7.029900\n",
       "log_deathtax    0.381812\n",
       "dtype: float64"
      ]
     },
     "execution_count": 11,
     "metadata": {},
     "output_type": "execute_result"
    }
   ],
   "source": [
    "# Estimated coefficients\n",
    "results.params"
   ]
  },
  {
   "cell_type": "code",
   "execution_count": 13,
   "metadata": {},
   "outputs": [
    {
     "data": {
      "text/plain": [
       "28     -1.598340\n",
       "29     -1.632400\n",
       "30     -2.055296\n",
       "31     -1.402558\n",
       "32     -1.401951\n",
       "33     -1.443441\n",
       "34     -1.165951\n",
       "35     -1.103925\n",
       "36     -0.966919\n",
       "37     -0.867201\n",
       "38     -0.603461\n",
       "39     -0.540825\n",
       "40      0.089152\n",
       "41     -0.048879\n",
       "42     -0.112592\n",
       "43     -0.010917\n",
       "44      0.425442\n",
       "45      0.583548\n",
       "46      0.619105\n",
       "47      0.812193\n",
       "48      0.493624\n",
       "49      0.549592\n",
       "50      0.755120\n",
       "51      0.345564\n",
       "52      0.345404\n",
       "53      0.685698\n",
       "54      0.548338\n",
       "55      0.437219\n",
       "56     -0.107758\n",
       "57      0.353845\n",
       "          ...   \n",
       "4021   -0.622365\n",
       "4022   -0.560392\n",
       "4023   -0.753805\n",
       "4024   -0.651042\n",
       "4025   -1.113578\n",
       "4026   -0.893315\n",
       "4027   -0.902067\n",
       "4028   -0.506410\n",
       "4029   -0.526390\n",
       "4030   -0.519098\n",
       "4031   -0.514369\n",
       "4032   -0.609055\n",
       "4033   -0.638653\n",
       "4034   -1.360062\n",
       "4035   -0.531854\n",
       "4036   -0.591339\n",
       "4037   -0.583545\n",
       "4038   -0.797707\n",
       "4039   -0.873268\n",
       "4040   -1.423145\n",
       "4041   -0.617222\n",
       "4042   -0.677182\n",
       "4043   -0.743870\n",
       "4044   -0.298254\n",
       "4045    0.065566\n",
       "4046    0.720774\n",
       "4047    0.380607\n",
       "4048    0.950222\n",
       "4049    1.673955\n",
       "4050    2.243566\n",
       "Length: 2068, dtype: float64"
      ]
     },
     "execution_count": 13,
     "metadata": {},
     "output_type": "execute_result"
    }
   ],
   "source": [
    "# Model residuals\n",
    "results.resid"
   ]
  },
  {
   "cell_type": "code",
   "execution_count": 14,
   "metadata": {},
   "outputs": [
    {
     "data": {
      "text/plain": [
       "<matplotlib.axes._subplots.AxesSubplot at 0x7f864b5a8940>"
      ]
     },
     "execution_count": 14,
     "metadata": {},
     "output_type": "execute_result"
    },
    {
     "data": {
      "image/png": "[encoded data removed]",
      "text/plain": [
       "<Figure size 432x288 with 1 Axes>"
      ]
     },
     "metadata": {
      "needs_background": "light"
     },
     "output_type": "display_data"
    }
   ],
   "source": [
    "# Histogram of residuals\n",
    "results.resid.hist()"
   ]
  },
  {
   "cell_type": "code",
   "execution_count": 16,
   "metadata": {},
   "outputs": [
    {
     "data": {
      "text/plain": [
       "Intercept       0.116506\n",
       "log_deathtax    0.011648\n",
       "dtype: float64"
      ]
     },
     "execution_count": 16,
     "metadata": {},
     "output_type": "execute_result"
    }
   ],
   "source": [
    "# Estimated standard errors\n",
    "results.bse"
   ]
  },
  {
   "cell_type": "code",
   "execution_count": 17,
   "metadata": {},
   "outputs": [
    {
     "data": {
      "text/plain": [
       "Intercept        0.000000e+00\n",
       "log_deathtax    4.041123e-190\n",
       "dtype: float64"
      ]
     },
     "execution_count": 17,
     "metadata": {},
     "output_type": "execute_result"
    }
   ],
   "source": [
    "# P-Values\n",
    "results.pvalues"
   ]
  },
  {
   "cell_type": "code",
   "execution_count": 19,
   "metadata": {},
   "outputs": [
    {
     "data": {
      "text/html": [
       "<table class=\"simpletable\">\n",
       "<caption>OLS Regression Results</caption>\n",
       "<tr>\n",
       "  <th>Dep. Variable:</th>       <td>pop_annual</td>    <th>  R-squared:         </th> <td>   0.602</td> \n",
       "</tr>\n",
       "<tr>\n",
       "  <th>Model:</th>                   <td>OLS</td>       <th>  Adj. R-squared:    </th> <td>   0.601</td> \n",
       "</tr>\n",
       "<tr>\n",
       "  <th>Method:</th>             <td>Least Squares</td>  <th>  F-statistic:       </th> <td>   1953.</td> \n",
       "</tr>\n",
       "<tr>\n",
       "  <th>Date:</th>             <td>Sun, 07 Oct 2018</td> <th>  Prob (F-statistic):</th>  <td>  0.00</td>  \n",
       "</tr>\n",
       "<tr>\n",
       "  <th>Time:</th>                 <td>16:26:54</td>     <th>  Log-Likelihood:    </th> <td> -42521.</td> \n",
       "</tr>\n",
       "<tr>\n",
       "  <th>No. Observations:</th>      <td>  2590</td>      <th>  AIC:               </th> <td>8.505e+04</td>\n",
       "</tr>\n",
       "<tr>\n",
       "  <th>Df Residuals:</th>          <td>  2587</td>      <th>  BIC:               </th> <td>8.507e+04</td>\n",
       "</tr>\n",
       "<tr>\n",
       "  <th>Df Model:</th>              <td>     2</td>      <th>                     </th>     <td> </td>    \n",
       "</tr>\n",
       "<tr>\n",
       "  <th>Covariance Type:</th>      <td>nonrobust</td>    <th>                     </th>     <td> </td>    \n",
       "</tr>\n",
       "</table>\n",
       "<table class=\"simpletable\">\n",
       "<tr>\n",
       "             <td></td>               <th>coef</th>     <th>std err</th>      <th>t</th>      <th>P>|t|</th>  <th>[0.025</th>    <th>0.975]</th>  \n",
       "</tr>\n",
       "<tr>\n",
       "  <th>Intercept</th>              <td>  2.09e+06</td> <td> 7.72e+04</td> <td>   27.071</td> <td> 0.000</td> <td> 1.94e+06</td> <td> 2.24e+06</td>\n",
       "</tr>\n",
       "<tr>\n",
       "  <th>alcoholic_beverage_tax</th> <td>   23.1612</td> <td>    1.032</td> <td>   22.451</td> <td> 0.000</td> <td>   21.138</td> <td>   25.184</td>\n",
       "</tr>\n",
       "<tr>\n",
       "  <th>tobacco_tax</th>            <td>   13.2555</td> <td>    0.470</td> <td>   28.195</td> <td> 0.000</td> <td>   12.334</td> <td>   14.177</td>\n",
       "</tr>\n",
       "</table>\n",
       "<table class=\"simpletable\">\n",
       "<tr>\n",
       "  <th>Omnibus:</th>       <td>1117.725</td> <th>  Durbin-Watson:     </th> <td>   0.090</td>\n",
       "</tr>\n",
       "<tr>\n",
       "  <th>Prob(Omnibus):</th>  <td> 0.000</td>  <th>  Jarque-Bera (JB):  </th> <td>8069.837</td>\n",
       "</tr>\n",
       "<tr>\n",
       "  <th>Skew:</th>           <td> 1.887</td>  <th>  Prob(JB):          </th> <td>    0.00</td>\n",
       "</tr>\n",
       "<tr>\n",
       "  <th>Kurtosis:</th>       <td>10.781</td>  <th>  Cond. No.          </th> <td>2.74e+05</td>\n",
       "</tr>\n",
       "</table><br/><br/>Warnings:<br/>[1] Standard Errors assume that the covariance matrix of the errors is correctly specified.<br/>[2] The condition number is large, 2.74e+05. This might indicate that there are<br/>strong multicollinearity or other numerical problems."
      ],
      "text/plain": [
       "<class 'statsmodels.iolib.summary.Summary'>\n",
       "\"\"\"\n",
       "                            OLS Regression Results                            \n",
       "==============================================================================\n",
       "Dep. Variable:             pop_annual   R-squared:                       0.602\n",
       "Model:                            OLS   Adj. R-squared:                  0.601\n",
       "Method:                 Least Squares   F-statistic:                     1953.\n",
       "Date:                Sun, 07 Oct 2018   Prob (F-statistic):               0.00\n",
       "Time:                        16:26:54   Log-Likelihood:                -42521.\n",
       "No. Observations:                2590   AIC:                         8.505e+04\n",
       "Df Residuals:                    2587   BIC:                         8.507e+04\n",
       "Df Model:                           2                                         \n",
       "Covariance Type:            nonrobust                                         \n",
       "==========================================================================================\n",
       "                             coef    std err          t      P>|t|      [0.025      0.975]\n",
       "------------------------------------------------------------------------------------------\n",
       "Intercept                2.09e+06   7.72e+04     27.071      0.000    1.94e+06    2.24e+06\n",
       "alcoholic_beverage_tax    23.1612      1.032     22.451      0.000      21.138      25.184\n",
       "tobacco_tax               13.2555      0.470     28.195      0.000      12.334      14.177\n",
       "==============================================================================\n",
       "Omnibus:                     1117.725   Durbin-Watson:                   0.090\n",
       "Prob(Omnibus):                  0.000   Jarque-Bera (JB):             8069.837\n",
       "Skew:                           1.887   Prob(JB):                         0.00\n",
       "Kurtosis:                      10.781   Cond. No.                     2.74e+05\n",
       "==============================================================================\n",
       "\n",
       "Warnings:\n",
       "[1] Standard Errors assume that the covariance matrix of the errors is correctly specified.\n",
       "[2] The condition number is large, 2.74e+05. This might indicate that there are\n",
       "strong multicollinearity or other numerical problems.\n",
       "\"\"\""
      ]
     },
     "execution_count": 19,
     "metadata": {},
     "output_type": "execute_result"
    }
   ],
   "source": [
    "# Multivariate regression\n",
    "model2 = smf.ols('pop_annual ~ alcoholic_beverage_tax + tobacco_tax', data=df)\n",
    "results2 = model2.fit()\n",
    "results2.summary()"
   ]
  }
 ],
 "metadata": {
  "kernelspec": {
   "display_name": "Python 3",
   "language": "python",
   "name": "python3"
  },
  "language_info": {
   "codemirror_mode": {
    "name": "ipython",
    "version": 3
   },
   "file_extension": ".py",
   "mimetype": "text/x-python",
   "name": "python",
   "nbconvert_exporter": "python",
   "pygments_lexer": "ipython3",
   "version": "3.5.4"
  }
 },
 "nbformat": 4,
 "nbformat_minor": 2
}
